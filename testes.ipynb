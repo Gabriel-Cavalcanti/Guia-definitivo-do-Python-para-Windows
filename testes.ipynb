{
 "cells": [
  {
   "cell_type": "code",
   "execution_count": null,
   "metadata": {},
   "outputs": [],
   "source": [
    "import numpy as np"
   ]
  },
  {
   "cell_type": "code",
   "execution_count": null,
   "metadata": {},
   "outputs": [],
   "source": [
    "a = np.array([[1,2], [1,3]])\n",
    "print(a)"
   ]
  },
  {
   "cell_type": "code",
   "execution_count": null,
   "metadata": {},
   "outputs": [],
   "source": [
    "inicio = 1\n",
    "fim = 10\n",
    "\n",
    "conjunto_de_numeros = set(range(inicio, fim + 1))\n",
    "\n",
    "print(conjunto_de_numeros)"
   ]
  },
  {
   "cell_type": "code",
   "execution_count": 22,
   "metadata": {},
   "outputs": [
    {
     "name": "stdout",
     "output_type": "stream",
     "text": [
      "[0] Chevrolet Tracker R$ 120 /dia\n",
      "[13] Chevrolet Onix R$ 90 /dia\n",
      "[13] Chevrolet Spin R$ 150 /dia\n",
      "[13] Hyundai HB20 R$ 85 /dia\n",
      "[11] Hyundai Tucson R$ 120 /dia\n",
      "[12] Fiat Uno R$ 60 /dia\n",
      "[8] Fiat Mobi R$ 70 /dia\n",
      "[8] fiat Pulse R$ 130 /dia\n"
     ]
    }
   ],
   "source": [
    "carros = {'Chevrolet Tracker': 120, 'Chevrolet Onix': 90, 'Chevrolet Spin': 150, 'Hyundai HB20': 85, \n",
    "          'Hyundai Tucson': 120, 'Fiat Uno': 60, 'Fiat Mobi': 70, 'fiat Pulse': 130}\n",
    "\n",
    "carros_portifolio = {}\n",
    "\n",
    "for i in carros:\n",
    "    \n",
    "    print(f'[{len(carros_portifolio)}] {i} R$ {carros[i]} /dia')\n",
    "    \n",
    "    \n",
    "     "
   ]
  },
  {
   "cell_type": "code",
   "execution_count": null,
   "metadata": {},
   "outputs": [],
   "source": [
    "carros_alugados = {}\n",
    "\n",
    "\n",
    "\n",
    "\n",
    "\n",
    "\n",
    "\n",
    "\n",
    "carros_alugados.update(carros)\n",
    "\n",
    "print(carros_alugados)"
   ]
  },
  {
   "cell_type": "markdown",
   "metadata": {},
   "source": []
  }
 ],
 "metadata": {
  "kernelspec": {
   "display_name": "Python 3",
   "language": "python",
   "name": "python3"
  },
  "language_info": {
   "codemirror_mode": {
    "name": "ipython",
    "version": 3
   },
   "file_extension": ".py",
   "mimetype": "text/x-python",
   "name": "python",
   "nbconvert_exporter": "python",
   "pygments_lexer": "ipython3",
   "version": "3.10.5"
  },
  "orig_nbformat": 4
 },
 "nbformat": 4,
 "nbformat_minor": 2
}
