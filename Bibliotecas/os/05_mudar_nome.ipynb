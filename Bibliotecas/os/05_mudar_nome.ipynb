{
 "cells": [
  {
   "attachments": {},
   "cell_type": "markdown",
   "metadata": {},
   "source": [
    "# Mudar nome de um arquivo ou pasta"
   ]
  },
  {
   "cell_type": "code",
   "execution_count": 5,
   "metadata": {},
   "outputs": [
    {
     "name": "stdout",
     "output_type": "stream",
     "text": [
      "Diretorios da pasta teste_lib_os:\n",
      "['excel_01.xlsx', 'pasta_01', 'pasta_02', 'txt_01.txt']\n",
      "Diretorios da pasta teste_lib_os após o rename:\n",
      "['excel_01.xlsx', 'pasta_02', 'Pasta_rename_01', 'txt_rename_01.txt']\n"
     ]
    }
   ],
   "source": [
    "import os\n",
    "\n",
    "os.chdir('C:\\\\Users\\\\gabri\\\\OneDrive\\\\Documentos\\\\teste_lib_os')\n",
    "\n",
    "print(\"Diretorios da pasta teste_lib_os:\")\n",
    "print(os.listdir())\n",
    "\n",
    "os.rename('txt_01.txt','txt_rename_01.txt')\n",
    "os.rename('Pasta_01','Pasta_rename_01')\n",
    "\n",
    "print(\"Diretorios da pasta teste_lib_os após o rename:\")\n",
    "print(os.listdir())\n"
   ]
  }
 ],
 "metadata": {
  "kernelspec": {
   "display_name": "Python 3",
   "language": "python",
   "name": "python3"
  },
  "language_info": {
   "codemirror_mode": {
    "name": "ipython",
    "version": 3
   },
   "file_extension": ".py",
   "mimetype": "text/x-python",
   "name": "python",
   "nbconvert_exporter": "python",
   "pygments_lexer": "ipython3",
   "version": "3.10.8"
  },
  "orig_nbformat": 4,
  "vscode": {
   "interpreter": {
    "hash": "b1be5a1e9e85905d3e4e97ef1b769f5caa870a8a58c9f9e0ae488b6f0a0e1baf"
   }
  }
 },
 "nbformat": 4,
 "nbformat_minor": 2
}
