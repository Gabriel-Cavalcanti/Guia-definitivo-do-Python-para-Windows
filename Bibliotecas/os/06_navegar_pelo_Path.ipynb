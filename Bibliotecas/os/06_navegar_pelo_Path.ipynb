{
 "cells": [
  {
   "attachments": {},
   "cell_type": "markdown",
   "metadata": {},
   "source": [
    "# Navegar pelo Path"
   ]
  },
  {
   "cell_type": "code",
   "execution_count": 3,
   "metadata": {},
   "outputs": [
    {
     "name": "stdout",
     "output_type": "stream",
     "text": [
      "Current Path:  C:\\Users\\gabri\\OneDrive\\Documentos\\teste_lib_os\n",
      "Directories:  ['pasta_02', 'Pasta_03', 'Pasta_04', 'Pasta_rename_01']\n",
      "Files ['excel_01.xlsx', 'txt_rename_01.txt']\n",
      "\n",
      "Current Path:  C:\\Users\\gabri\\OneDrive\\Documentos\\teste_lib_os\\pasta_02\n",
      "Directories:  []\n",
      "Files []\n",
      "\n",
      "Current Path:  C:\\Users\\gabri\\OneDrive\\Documentos\\teste_lib_os\\Pasta_03\n",
      "Directories:  ['sub_pasta_03']\n",
      "Files []\n",
      "\n",
      "Current Path:  C:\\Users\\gabri\\OneDrive\\Documentos\\teste_lib_os\\Pasta_03\\sub_pasta_03\n",
      "Directories:  []\n",
      "Files []\n",
      "\n",
      "Current Path:  C:\\Users\\gabri\\OneDrive\\Documentos\\teste_lib_os\\Pasta_04\n",
      "Directories:  ['sub_pasta_04']\n",
      "Files []\n",
      "\n",
      "Current Path:  C:\\Users\\gabri\\OneDrive\\Documentos\\teste_lib_os\\Pasta_04\\sub_pasta_04\n",
      "Directories:  []\n",
      "Files []\n",
      "\n",
      "Current Path:  C:\\Users\\gabri\\OneDrive\\Documentos\\teste_lib_os\\Pasta_rename_01\n",
      "Directories:  []\n",
      "Files []\n",
      "\n"
     ]
    }
   ],
   "source": [
    "import os\n",
    "\n",
    "os.chdir('C:\\\\Users\\\\gabri\\\\OneDrive\\\\Documentos\\\\teste_lib_os')\n",
    "\n",
    "for dirpath, dirnames, filenames in os.walk(os.getcwd()):\n",
    "    print('Current Path: ', dirpath)\n",
    "    print('Directories: ', dirnames)\n",
    "    print('Files', filenames)\n",
    "    print()"
   ]
  }
 ],
 "metadata": {
  "kernelspec": {
   "display_name": "Python 3",
   "language": "python",
   "name": "python3"
  },
  "language_info": {
   "codemirror_mode": {
    "name": "ipython",
    "version": 3
   },
   "file_extension": ".py",
   "mimetype": "text/x-python",
   "name": "python",
   "nbconvert_exporter": "python",
   "pygments_lexer": "ipython3",
   "version": "3.10.8"
  },
  "orig_nbformat": 4,
  "vscode": {
   "interpreter": {
    "hash": "b1be5a1e9e85905d3e4e97ef1b769f5caa870a8a58c9f9e0ae488b6f0a0e1baf"
   }
  }
 },
 "nbformat": 4,
 "nbformat_minor": 2
}
