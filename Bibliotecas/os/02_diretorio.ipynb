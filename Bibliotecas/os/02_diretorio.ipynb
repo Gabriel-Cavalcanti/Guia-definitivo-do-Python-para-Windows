{
 "cells": [
  {
   "attachments": {},
   "cell_type": "markdown",
   "metadata": {},
   "source": [
    "# Trabalhando com diretórios"
   ]
  },
  {
   "cell_type": "markdown",
   "metadata": {},
   "source": [
    "#### Mudar o diretório"
   ]
  },
  {
   "cell_type": "code",
   "execution_count": null,
   "metadata": {},
   "outputs": [
    {
     "name": "stdout",
     "output_type": "stream",
     "text": [
      "c:\\Users\\gabri\\OneDrive\\Documentos\\GitHub\\Guia-definitivo-do-Python-para-Windows\\Bibliotecas\\os\n",
      "C:\\Users\\gabri\\OneDrive\\Documentos\\teste_lib_os\n"
     ]
    }
   ],
   "source": [
    "import os\n",
    "\n",
    "print(os.getcwd())\n",
    "\n",
    "os.chdir('C:\\\\Users\\\\gabri\\\\OneDrive\\\\Documentos\\\\teste_lib_os')\n",
    "\n",
    "print(os.getcwd())\n"
   ]
  },
  {
   "cell_type": "markdown",
   "metadata": {},
   "source": [
    "#### Listar os arquivos e pastas presentes no diretório atual"
   ]
  },
  {
   "cell_type": "code",
   "execution_count": null,
   "metadata": {},
   "outputs": [
    {
     "name": "stdout",
     "output_type": "stream",
     "text": [
      "['excel_01.xlsx', 'pasta_01', 'pasta_02', 'txt_01.txt']\n"
     ]
    }
   ],
   "source": [
    "import os\n",
    "\n",
    "os.chdir('C:\\\\Users\\\\gabri\\\\OneDrive\\\\Documentos\\\\teste_lib_os')\n",
    "\n",
    "print(os.listdir())\n"
   ]
  },
  {
   "cell_type": "markdown",
   "metadata": {},
   "source": [
    "#### Listar os arquivos e pastas presentes num diretório qualquer"
   ]
  },
  {
   "cell_type": "markdown",
   "metadata": {},
   "source": [
    "Basta passar o path como parâmetro do método .listdir( )."
   ]
  },
  {
   "cell_type": "code",
   "execution_count": null,
   "metadata": {},
   "outputs": [
    {
     "name": "stdout",
     "output_type": "stream",
     "text": [
      "['ArcGISPro.cab', 'ArcGISPro.msi', 'Documentation', 'setup.ini']\n"
     ]
    }
   ],
   "source": [
    "import os\n",
    "\n",
    "os.chdir('C:\\\\Users\\\\gabri\\\\OneDrive\\\\Documentos\\\\teste_lib_os')\n",
    "\n",
    "print(os.listdir('C:\\\\Users\\\\gabri\\\\OneDrive\\\\Documentos\\\\ArcGIS Pro 2.7\\\\ArcGISPro'))"
   ]
  }
 ],
 "metadata": {
  "kernelspec": {
   "display_name": "Python 3",
   "language": "python",
   "name": "python3"
  },
  "language_info": {
   "codemirror_mode": {
    "name": "ipython",
    "version": 3
   },
   "file_extension": ".py",
   "mimetype": "text/x-python",
   "name": "python",
   "nbconvert_exporter": "python",
   "pygments_lexer": "ipython3",
   "version": "3.10.8"
  },
  "orig_nbformat": 4,
  "vscode": {
   "interpreter": {
    "hash": "b1be5a1e9e85905d3e4e97ef1b769f5caa870a8a58c9f9e0ae488b6f0a0e1baf"
   }
  }
 },
 "nbformat": 4,
 "nbformat_minor": 2
}
