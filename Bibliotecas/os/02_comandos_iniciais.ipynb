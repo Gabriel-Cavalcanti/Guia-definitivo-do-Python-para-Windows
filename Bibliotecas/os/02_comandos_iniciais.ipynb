{
 "cells": [
  {
   "attachments": {},
   "cell_type": "markdown",
   "metadata": {},
   "source": [
    "# Comandos iniciais"
   ]
  },
  {
   "attachments": {},
   "cell_type": "markdown",
   "metadata": {},
   "source": [
    "#### Verificar em qual diretório estamos no momento"
   ]
  },
  {
   "cell_type": "code",
   "execution_count": 1,
   "metadata": {},
   "outputs": [
    {
     "name": "stdout",
     "output_type": "stream",
     "text": [
      "c:\\Users\\gabri\\OneDrive\\Documentos\\GitHub\\Guia-definitivo-do-Python-para-Windows\\Bibliotecas\\os\n"
     ]
    }
   ],
   "source": [
    "import os\n",
    "\n",
    "print(os.getcwd())"
   ]
  },
  {
   "attachments": {},
   "cell_type": "markdown",
   "metadata": {},
   "source": [
    "#### Mudar o diretório"
   ]
  },
  {
   "cell_type": "code",
   "execution_count": 3,
   "metadata": {},
   "outputs": [
    {
     "name": "stdout",
     "output_type": "stream",
     "text": [
      "c:\\Users\\gabri\\OneDrive\\Documentos\\GitHub\\Guia-definitivo-do-Python-para-Windows\\Bibliotecas\\os\n",
      "C:\\Users\\gabri\\OneDrive\\Documentos\\teste_lib_os\n"
     ]
    }
   ],
   "source": [
    "import os\n",
    "\n",
    "print(os.getcwd())\n",
    "\n",
    "os.chdir('C:\\\\Users\\\\gabri\\\\OneDrive\\\\Documentos\\\\teste_lib_os')\n",
    "\n",
    "print(os.getcwd())\n"
   ]
  },
  {
   "attachments": {},
   "cell_type": "markdown",
   "metadata": {},
   "source": [
    "#### Listar os arquivos e pastas presentes no diretório atual"
   ]
  },
  {
   "cell_type": "code",
   "execution_count": 5,
   "metadata": {},
   "outputs": [
    {
     "name": "stdout",
     "output_type": "stream",
     "text": [
      "['excel_01.xlsx', 'pasta_01', 'pasta_02', 'txt_01.txt']\n"
     ]
    }
   ],
   "source": [
    "import os\n",
    "\n",
    "os.chdir('C:\\\\Users\\\\gabri\\\\OneDrive\\\\Documentos\\\\teste_lib_os')\n",
    "\n",
    "print(os.listdir())\n"
   ]
  },
  {
   "attachments": {},
   "cell_type": "markdown",
   "metadata": {},
   "source": [
    "#### Listar os arquivos e pastas presentes num diretório qualquer"
   ]
  },
  {
   "attachments": {},
   "cell_type": "markdown",
   "metadata": {},
   "source": [
    "Basta passar o path como parâmetro do método .listdir( )."
   ]
  },
  {
   "cell_type": "code",
   "execution_count": 7,
   "metadata": {},
   "outputs": [
    {
     "name": "stdout",
     "output_type": "stream",
     "text": [
      "['ArcGISPro.cab', 'ArcGISPro.msi', 'Documentation', 'setup.ini']\n"
     ]
    }
   ],
   "source": [
    "import os\n",
    "\n",
    "os.chdir('C:\\\\Users\\\\gabri\\\\OneDrive\\\\Documentos\\\\teste_lib_os')\n",
    "\n",
    "print(os.listdir('C:\\\\Users\\\\gabri\\\\OneDrive\\\\Documentos\\\\ArcGIS Pro 2.7\\\\ArcGISPro'))"
   ]
  },
  {
   "attachments": {},
   "cell_type": "markdown",
   "metadata": {},
   "source": [
    "#### Criar uma pasta"
   ]
  },
  {
   "attachments": {},
   "cell_type": "markdown",
   "metadata": {},
   "source": [
    "Há dois métodos para isso. O primeiro cria apenas um pasta por vez, sem permitir inserir nenhum arquivo ou nova pasta dentro dessa nova pasta sem que ela tenha sido criada. Ou seja, são dois passos, criar a pasta e depois popular ela; o segundo cria a pasta e quantas sub-pastas quisermos, de uma vez, sem se preocupar.\n",
    "\n",
    "Vou mostrar os dois métodos aqui, mas normalmente somente utiliza o segundo método."
   ]
  },
  {
   "attachments": {},
   "cell_type": "markdown",
   "metadata": {},
   "source": [
    "- Método 1"
   ]
  },
  {
   "cell_type": "code",
   "execution_count": 9,
   "metadata": {},
   "outputs": [
    {
     "name": "stdout",
     "output_type": "stream",
     "text": [
      "Diretorios da pasta teste_lib_os:\n",
      "['excel_01.xlsx', 'pasta_01', 'pasta_02', 'Pasta_03', 'Pasta_04', 'txt_01.txt']\n",
      "Diretorios da pasta Pasta_03:\n",
      "['sub_pasta_03']\n"
     ]
    }
   ],
   "source": [
    "import os\n",
    "\n",
    "os.chdir('C:\\\\Users\\\\gabri\\\\OneDrive\\\\Documentos\\\\teste_lib_os')\n",
    "\n",
    "os.mkdir('Pasta_03')\n",
    "\n",
    "print(\"Diretorios da pasta teste_lib_os:\")\n",
    "print(os.listdir())\n",
    "\n",
    "os.mkdir('Pasta_03/sub_pasta_03')\n",
    "\n",
    "os.chdir('C:\\\\Users\\\\gabri\\\\OneDrive\\\\Documentos\\\\teste_lib_os\\\\Pasta_03')\n",
    "\n",
    "print(\"Diretorios da pasta Pasta_03:\")\n",
    "print(os.listdir())"
   ]
  },
  {
   "attachments": {},
   "cell_type": "markdown",
   "metadata": {},
   "source": [
    "- Método 2\n"
   ]
  },
  {
   "cell_type": "code",
   "execution_count": 4,
   "metadata": {},
   "outputs": [
    {
     "name": "stdout",
     "output_type": "stream",
     "text": [
      "Diretorios da pasta teste_lib_os:\n",
      "['excel_01.xlsx', 'pasta_01', 'pasta_02', 'Pasta_03', 'Pasta_04', 'txt_01.txt']\n",
      "Diretorios da pasta Pasta_04:\n",
      "['sub_pasta_04']\n"
     ]
    }
   ],
   "source": [
    "import os\n",
    "\n",
    "os.chdir('C:\\\\Users\\\\gabri\\\\OneDrive\\\\Documentos\\\\teste_lib_os')\n",
    "\n",
    "os.makedirs('Pasta_04\\\\sub_pasta_04')\n",
    "\n",
    "print(\"Diretorios da pasta teste_lib_os:\")\n",
    "print(os.listdir())\n",
    "\n",
    "os.chdir('C:\\\\Users\\\\gabri\\\\OneDrive\\\\Documentos\\\\teste_lib_os\\\\Pasta_04')\n",
    "\n",
    "print(\"Diretorios da pasta Pasta_04:\")\n",
    "print(os.listdir())"
   ]
  },
  {
   "attachments": {},
   "cell_type": "markdown",
   "metadata": {},
   "source": [
    "### Deletar um pasta"
   ]
  },
  {
   "attachments": {},
   "cell_type": "markdown",
   "metadata": {},
   "source": [
    "Mesma coisa da criação de pastas, mas agora para remoção delas. Há dois métodos, o processo é mesmo."
   ]
  },
  {
   "attachments": {},
   "cell_type": "markdown",
   "metadata": {},
   "source": [
    "- Método 1"
   ]
  },
  {
   "cell_type": "code",
   "execution_count": 10,
   "metadata": {},
   "outputs": [
    {
     "name": "stdout",
     "output_type": "stream",
     "text": [
      "Diretorios da pasta teste_lib_os:\n",
      "['excel_01.xlsx', 'pasta_01', 'pasta_02', 'Pasta_03', 'Pasta_04', 'txt_01.txt']\n",
      "Diretorios da pasta teste_lib_os depois de apagar a pasta:\n",
      "['excel_01.xlsx', 'pasta_01', 'pasta_02', 'Pasta_04', 'txt_01.txt']\n"
     ]
    }
   ],
   "source": [
    "import os\n",
    "\n",
    "os.chdir('C:\\\\Users\\\\gabri\\\\OneDrive\\\\Documentos\\\\teste_lib_os')\n",
    "\n",
    "print(\"Diretorios da pasta teste_lib_os:\")\n",
    "print(os.listdir())\n",
    "\n",
    "os.rmdir('Pasta_03\\\\sub_pasta_03')\n",
    "os.rmdir('Pasta_03')\n",
    "\n",
    "print(\"Diretorios da pasta teste_lib_os depois de apagar a pasta:\")\n",
    "print(os.listdir())"
   ]
  },
  {
   "attachments": {},
   "cell_type": "markdown",
   "metadata": {},
   "source": [
    "- Método 2"
   ]
  },
  {
   "cell_type": "code",
   "execution_count": 12,
   "metadata": {},
   "outputs": [
    {
     "name": "stdout",
     "output_type": "stream",
     "text": [
      "Diretorios da pasta teste_lib_os:\n",
      "['excel_01.xlsx', 'pasta_01', 'pasta_02', 'Pasta_04', 'txt_01.txt']\n",
      "Diretorios da pasta teste_lib_os depois de apagar a pasta:\n",
      "['excel_01.xlsx', 'pasta_01', 'pasta_02', 'txt_01.txt']\n"
     ]
    }
   ],
   "source": [
    "import os\n",
    "\n",
    "os.chdir('C:\\\\Users\\\\gabri\\\\OneDrive\\\\Documentos\\\\teste_lib_os')\n",
    "\n",
    "print(\"Diretorios da pasta teste_lib_os:\")\n",
    "print(os.listdir())\n",
    "\n",
    "os.removedirs('Pasta_04\\\\sub_pasta_04')\n",
    "\n",
    "print(\"Diretorios da pasta teste_lib_os depois de apagar a pasta:\")\n",
    "print(os.listdir())"
   ]
  }
 ],
 "metadata": {
  "kernelspec": {
   "display_name": "Python 3",
   "language": "python",
   "name": "python3"
  },
  "language_info": {
   "codemirror_mode": {
    "name": "ipython",
    "version": 3
   },
   "file_extension": ".py",
   "mimetype": "text/x-python",
   "name": "python",
   "nbconvert_exporter": "python",
   "pygments_lexer": "ipython3",
   "version": "3.10.8"
  },
  "orig_nbformat": 4,
  "vscode": {
   "interpreter": {
    "hash": "b1be5a1e9e85905d3e4e97ef1b769f5caa870a8a58c9f9e0ae488b6f0a0e1baf"
   }
  }
 },
 "nbformat": 4,
 "nbformat_minor": 2
}
