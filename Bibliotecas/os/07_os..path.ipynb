{
 "cells": [
  {
   "attachments": {},
   "cell_type": "markdown",
   "metadata": {},
   "source": [
    "# os.path"
   ]
  },
  {
   "attachments": {},
   "cell_type": "markdown",
   "metadata": {},
   "source": [
    "- cocaternar path: .join(part_path_1, part_path_2)\n",
    "- verificar se o arquivo existe: .exists(path)\n",
    "- verificar se um diretorio ou arquivo : .isdir(path) e isfile(path)\n"
   ]
  },
  {
   "cell_type": "code",
   "execution_count": null,
   "metadata": {},
   "outputs": [],
   "source": []
  }
 ],
 "metadata": {
  "kernelspec": {
   "display_name": "Python 3",
   "language": "python",
   "name": "python3"
  },
  "language_info": {
   "name": "python",
   "version": "3.10.8"
  },
  "orig_nbformat": 4,
  "vscode": {
   "interpreter": {
    "hash": "b1be5a1e9e85905d3e4e97ef1b769f5caa870a8a58c9f9e0ae488b6f0a0e1baf"
   }
  }
 },
 "nbformat": 4,
 "nbformat_minor": 2
}
