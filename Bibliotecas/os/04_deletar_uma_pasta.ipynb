{
 "cells": [
  {
   "attachments": {},
   "cell_type": "markdown",
   "metadata": {},
   "source": [
    "# Deletar um pasta"
   ]
  },
  {
   "cell_type": "markdown",
   "metadata": {},
   "source": [
    "Mesma coisa da criação de pastas, mas agora para remoção delas. Há dois métodos, o processo é mesmo."
   ]
  },
  {
   "cell_type": "markdown",
   "metadata": {},
   "source": [
    "- Método 1"
   ]
  },
  {
   "cell_type": "code",
   "execution_count": null,
   "metadata": {},
   "outputs": [
    {
     "name": "stdout",
     "output_type": "stream",
     "text": [
      "Diretorios da pasta teste_lib_os:\n",
      "['excel_01.xlsx', 'pasta_01', 'pasta_02', 'Pasta_03', 'Pasta_04', 'txt_01.txt']\n",
      "Diretorios da pasta teste_lib_os depois de apagar a pasta:\n",
      "['excel_01.xlsx', 'pasta_01', 'pasta_02', 'Pasta_04', 'txt_01.txt']\n"
     ]
    }
   ],
   "source": [
    "import os\n",
    "\n",
    "os.chdir('C:\\\\Users\\\\gabri\\\\OneDrive\\\\Documentos\\\\teste_lib_os')\n",
    "\n",
    "print(\"Diretorios da pasta teste_lib_os:\")\n",
    "print(os.listdir())\n",
    "\n",
    "os.rmdir('Pasta_03\\\\sub_pasta_03')\n",
    "os.rmdir('Pasta_03')\n",
    "\n",
    "print(\"Diretorios da pasta teste_lib_os depois de apagar a pasta:\")\n",
    "print(os.listdir())"
   ]
  },
  {
   "cell_type": "code",
   "execution_count": null,
   "metadata": {},
   "outputs": [
    {
     "name": "stdout",
     "output_type": "stream",
     "text": [
      "Diretorios da pasta teste_lib_os:\n",
      "['excel_01.xlsx', 'pasta_01', 'pasta_02', 'Pasta_03', 'Pasta_04', 'txt_01.txt']\n",
      "Diretorios da pasta teste_lib_os depois de apagar a pasta:\n",
      "['excel_01.xlsx', 'pasta_01', 'pasta_02', 'Pasta_04', 'txt_01.txt']\n"
     ]
    }
   ],
   "source": [
    "import os\n",
    "\n",
    "os.chdir('C:\\\\Users\\\\gabri\\\\OneDrive\\\\Documentos\\\\teste_lib_os')\n",
    "\n",
    "print(\"Diretorios da pasta teste_lib_os:\")\n",
    "print(os.listdir())\n",
    "\n",
    "os.rmdir('Pasta_03\\\\sub_pasta_03')\n",
    "os.rmdir('Pasta_03')\n",
    "\n",
    "print(\"Diretorios da pasta teste_lib_os depois de apagar a pasta:\")\n",
    "print(os.listdir())"
   ]
  }
 ],
 "metadata": {
  "kernelspec": {
   "display_name": "Python 3",
   "language": "python",
   "name": "python3"
  },
  "language_info": {
   "codemirror_mode": {
    "name": "ipython",
    "version": 3
   },
   "file_extension": ".py",
   "mimetype": "text/x-python",
   "name": "python",
   "nbconvert_exporter": "python",
   "pygments_lexer": "ipython3",
   "version": "3.10.8"
  },
  "orig_nbformat": 4,
  "vscode": {
   "interpreter": {
    "hash": "b1be5a1e9e85905d3e4e97ef1b769f5caa870a8a58c9f9e0ae488b6f0a0e1baf"
   }
  }
 },
 "nbformat": 4,
 "nbformat_minor": 2
}
