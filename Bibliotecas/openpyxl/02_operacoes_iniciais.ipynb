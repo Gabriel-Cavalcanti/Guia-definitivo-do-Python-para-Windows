{
 "cells": [
  {
   "attachments": {},
   "cell_type": "markdown",
   "metadata": {},
   "source": [
    "# Operações iniciais com o openpyxl"
   ]
  },
  {
   "attachments": {},
   "cell_type": "markdown",
   "metadata": {},
   "source": [
    "Veremos aqui alguns comando básicos da bibliotexa openpyxl, que serão úteis em toda a nossa jornada."
   ]
  },
  {
   "attachments": {},
   "cell_type": "markdown",
   "metadata": {},
   "source": [
    "### Selecionar um dado específico"
   ]
  },
  {
   "attachments": {},
   "cell_type": "markdown",
   "metadata": {},
   "source": [
    "Toda celula no excel possui uma identificação. Ela é dada pela coluna, representada por letras e pela linha, representada por números, por exemplo, A1, B4, G14, Z42, etc. \n",
    "\n",
    "Então para conseguir visualizar o que tem dentro da celula, utilizamos o comando .value, como pode ser visto abaixo."
   ]
  },
  {
   "cell_type": "code",
   "execution_count": 4,
   "metadata": {},
   "outputs": [
    {
     "name": "stdout",
     "output_type": "stream",
     "text": [
      "Bob\n"
     ]
    }
   ],
   "source": [
    "import openpyxl\n",
    "\n",
    "wb = openpyxl.load_workbook('balance.xlsx')\n",
    "\n",
    "ws = wb['Sheet1']\n",
    "\n",
    "print(ws['A3'].value)"
   ]
  },
  {
   "attachments": {},
   "cell_type": "markdown",
   "metadata": {},
   "source": [
    "Se formo no arquivo, selecionar o sheet Sheet1, na celula A3 estará escrito Bob. Podemos utilizar o comando acima para extrair qualquer valor que desejar dentro do arquivo .xlsx"
   ]
  },
  {
   "attachments": {},
   "cell_type": "markdown",
   "metadata": {},
   "source": [
    "Outra forma de fazer isso é utilizando o método .cell(column= , row= ).value, como podemos ver abaixo."
   ]
  },
  {
   "cell_type": "code",
   "execution_count": 5,
   "metadata": {},
   "outputs": [
    {
     "name": "stdout",
     "output_type": "stream",
     "text": [
      "Bob\n"
     ]
    }
   ],
   "source": [
    "import openpyxl\n",
    "\n",
    "wb = openpyxl.load_workbook('balance.xlsx')\n",
    "\n",
    "ws = wb['Sheet1']\n",
    "\n",
    "print(ws.cell(column=1, row=3).value)"
   ]
  },
  {
   "attachments": {},
   "cell_type": "markdown",
   "metadata": {},
   "source": [
    "### Selecionar um conjuto de dados específico"
   ]
  },
  {
   "attachments": {},
   "cell_type": "markdown",
   "metadata": {},
   "source": [
    "Para isso, recisamos utilizar um loop. Primeiro, precisamos escolher o intervalo de dados que queremos selecionar e em seguida utilizar o loop."
   ]
  },
  {
   "cell_type": "code",
   "execution_count": 6,
   "metadata": {},
   "outputs": [
    {
     "name": "stdout",
     "output_type": "stream",
     "text": [
      "Name Balance\n",
      "John 880\n",
      "Bob 1200\n",
      "Kane 1500\n"
     ]
    }
   ],
   "source": [
    "import openpyxl\n",
    "\n",
    "wb = openpyxl.load_workbook('balance.xlsx')\n",
    "\n",
    "ws = wb['Sheet1']\n",
    "\n",
    "values = ws['A1:B4']\n",
    "\n",
    "for a,b in values:\n",
    "    print(a.value, b.value)"
   ]
  },
  {
   "attachments": {},
   "cell_type": "markdown",
   "metadata": {},
   "source": [
    "### Selecionando todas as linhas e/ou colunas de um sheet"
   ]
  },
  {
   "attachments": {},
   "cell_type": "markdown",
   "metadata": {},
   "source": [
    "Podemos selecionar todas as linhas e/ou colunas e colocar as informções dentro de uma lista. "
   ]
  },
  {
   "cell_type": "code",
   "execution_count": 7,
   "metadata": {},
   "outputs": [
    {
     "name": "stdout",
     "output_type": "stream",
     "text": [
      "Name Balance\n",
      "John 880\n",
      "Bob 1200\n",
      "Kane 1500\n",
      "Tim 1400\n",
      "Robin 560\n",
      "Michael 780\n",
      "Robert 920\n",
      "\n",
      "Name John Bob\n",
      "Balance 880 1200\n"
     ]
    }
   ],
   "source": [
    "import openpyxl\n",
    "\n",
    "wb = openpyxl.load_workbook('balance.xlsx')\n",
    "\n",
    "ws = wb['Sheet1']\n",
    "\n",
    "rows = list(ws.rows)\n",
    "columns = list(ws.columns)\n",
    "\n",
    "for a, b in rows:\n",
    "    print(a.value, b.value)\n",
    "\n",
    "\n",
    "print()\n",
    "c = 0\n",
    "\n",
    "for a in columns:\n",
    "    print(a[c].value, a[c+1].value, a[c+2].value)\n",
    "    c = 0\n"
   ]
  },
  {
   "attachments": {},
   "cell_type": "markdown",
   "metadata": {},
   "source": [
    "### Iterando sobre linhas e/ou colunas"
   ]
  },
  {
   "attachments": {},
   "cell_type": "markdown",
   "metadata": {},
   "source": [
    "Temos dois métodos, uma para linha e outra para coluna que cria um objeto iteravel. Dentro desses métodos é possível identificar, caso queira, o row e column mínima e máxima que o iterador irá trabalhar. Caso não defina, o padrão é colocar sempre da celula A1 até a última celula que contem dados. "
   ]
  },
  {
   "cell_type": "code",
   "execution_count": 8,
   "metadata": {},
   "outputs": [
    {
     "name": "stdout",
     "output_type": "stream",
     "text": [
      "Name Balance\n",
      "John 880\n",
      "Bob 1200\n",
      "Kane 1500\n",
      "Tim 1400\n"
     ]
    }
   ],
   "source": [
    "import openpyxl\n",
    "\n",
    "wb = openpyxl.load_workbook('balance.xlsx')\n",
    "\n",
    "ws = wb['Sheet1']\n",
    "\n",
    "rows = ws.iter_rows(min_row=1, max_row=5, min_col=1, max_col=2)\n",
    "\n",
    "for a, b in rows:\n",
    "    print(a.value, b.value)"
   ]
  },
  {
   "cell_type": "code",
   "execution_count": 9,
   "metadata": {},
   "outputs": [
    {
     "name": "stdout",
     "output_type": "stream",
     "text": [
      "John\n",
      "880\n"
     ]
    }
   ],
   "source": [
    "import openpyxl\n",
    "\n",
    "wb = openpyxl.load_workbook('balance.xlsx')\n",
    "\n",
    "ws = wb['Sheet1']\n",
    "\n",
    "columns = ws.iter_cols(min_row=1, max_row=5, min_col=1, max_col=2)\n",
    "\n",
    "for a in columns:\n",
    "    print(a[1].value)"
   ]
  },
  {
   "attachments": {},
   "cell_type": "markdown",
   "metadata": {},
   "source": [
    "### Alterando o valor de um dado"
   ]
  },
  {
   "attachments": {},
   "cell_type": "markdown",
   "metadata": {},
   "source": [
    "Há duas formas de fazer isso, como podemos ver logo abaixo."
   ]
  },
  {
   "cell_type": "code",
   "execution_count": 10,
   "metadata": {},
   "outputs": [],
   "source": [
    "import openpyxl\n",
    "\n",
    "wb = openpyxl.load_workbook('balance.xlsx')\n",
    "\n",
    "ws = wb['Sheet1']\n",
    "\n",
    "ws['B2'] = 42000\n",
    "ws.cell(column=1, row=3).value = 'Gabriel'\n",
    "\n",
    "wb.save('balance.xlsx')"
   ]
  },
  {
   "attachments": {},
   "cell_type": "markdown",
   "metadata": {},
   "source": [
    "### Alterando diversos valores de uma vez"
   ]
  },
  {
   "attachments": {},
   "cell_type": "markdown",
   "metadata": {},
   "source": [
    "É um processo um pouco mais complicado, mas utilizaremos loops para esse fim. Podemos ver um exemplo de utilização abaixo."
   ]
  },
  {
   "cell_type": "code",
   "execution_count": 11,
   "metadata": {},
   "outputs": [],
   "source": [
    "import openpyxl\n",
    "\n",
    "wb = openpyxl.load_workbook('balance.xlsx')\n",
    "\n",
    "ws = wb['Sheet1']\n",
    "\n",
    "ws['C1'] = 'Double Balance'\n",
    "\n",
    "for i in range(2,9):\n",
    "    ws.cell(column=3, row=i).value = ws.cell(column=2, row=i).value * 2\n",
    "\n",
    "\n",
    "wb.save('balance.xlsx')"
   ]
  },
  {
   "attachments": {},
   "cell_type": "markdown",
   "metadata": {},
   "source": [
    "### Criando linhas e/ou colunas"
   ]
  },
  {
   "attachments": {},
   "cell_type": "markdown",
   "metadata": {},
   "source": [
    "É possível com a penas dois comando, uma para linha e outra para coluna, criar novas linhase colunas na posição que desejar, como pode ser visto abaixo.\n",
    "\n",
    "Para criação, o linha e coluna inical é o 0, mas o 1 tmb é a primeira linha e coluna (não entendi). Como no proximo caso, a de deletar uma linha ou coluna, ele não aceita o parâmetro 0, então sempre começe pelo 1 (contrariando o padrão do Python, mas enfim)."
   ]
  },
  {
   "cell_type": "code",
   "execution_count": 16,
   "metadata": {},
   "outputs": [],
   "source": [
    "import openpyxl\n",
    "\n",
    "wb = openpyxl.load_workbook('balance.xlsx')\n",
    "\n",
    "ws = wb['Sheet1']\n",
    "\n",
    "ws.insert_rows(1)\n",
    "ws.insert_cols(1)\n",
    "\n",
    "\n",
    "wb.save('balance.xlsx')"
   ]
  },
  {
   "attachments": {},
   "cell_type": "markdown",
   "metadata": {},
   "source": [
    "### Deletando linhas e/ou colunas"
   ]
  },
  {
   "cell_type": "code",
   "execution_count": 19,
   "metadata": {},
   "outputs": [],
   "source": [
    "import openpyxl\n",
    "\n",
    "wb = openpyxl.load_workbook('balance.xlsx')\n",
    "\n",
    "ws = wb['Sheet1']\n",
    "\n",
    "ws.delete_rows(1)\n",
    "ws.delete_cols(1)\n",
    "\n",
    "\n",
    "wb.save('balance.xlsx')"
   ]
  },
  {
   "attachments": {},
   "cell_type": "markdown",
   "metadata": {},
   "source": [
    "### Inserindo um conjunto de dados"
   ]
  },
  {
   "attachments": {},
   "cell_type": "markdown",
   "metadata": {},
   "source": [
    "Definimos uma lista, em que cada valor irá ser alocado em um cedula, começando sempre do A1."
   ]
  },
  {
   "cell_type": "code",
   "execution_count": 20,
   "metadata": {},
   "outputs": [],
   "source": [
    "import openpyxl\n",
    "\n",
    "wb = openpyxl.Workbook() \n",
    "ws = wb.active \n",
    "wb.save('teste.xlsx')\n",
    "\n",
    "ws.append(['I', 'am', 'am','amazing'])\n",
    "ws.append(['I', 'am', 'am','amazing'])\n",
    "ws.append(['I', 'am', 'am','amazing'])\n",
    "ws.append(['I', 'am', 'am','amazing'])\n",
    "ws.append(['I', 'am', 'am','amazing'])\n",
    "ws.append(['end'])\n",
    "\n",
    "wb.save('teste.xlsx')\n"
   ]
  }
 ],
 "metadata": {
  "kernelspec": {
   "display_name": "Python 3",
   "language": "python",
   "name": "python3"
  },
  "language_info": {
   "codemirror_mode": {
    "name": "ipython",
    "version": 3
   },
   "file_extension": ".py",
   "mimetype": "text/x-python",
   "name": "python",
   "nbconvert_exporter": "python",
   "pygments_lexer": "ipython3",
   "version": "3.10.8"
  },
  "orig_nbformat": 4,
  "vscode": {
   "interpreter": {
    "hash": "b1be5a1e9e85905d3e4e97ef1b769f5caa870a8a58c9f9e0ae488b6f0a0e1baf"
   }
  }
 },
 "nbformat": 4,
 "nbformat_minor": 2
}
