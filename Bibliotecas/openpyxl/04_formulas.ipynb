{
 "cells": [
  {
   "attachments": {},
   "cell_type": "markdown",
   "metadata": {},
   "source": [
    "# Fórmulas "
   ]
  },
  {
   "attachments": {},
   "cell_type": "markdown",
   "metadata": {},
   "source": [
    "Podemos utilizar qualquer formula presente no excel dentro do Python, utilizando a biblioteca openpyxl. Basta colocar a mesma sintaxe utizada no excel e atribuir a uma celula específica.\n",
    "\n",
    "obs: O excel muda no nome da fórmula dependendo da lingua, fique atento a isso e utilize dentro do script as fórmulas na lingua que o excel irá entender."
   ]
  },
  {
   "cell_type": "code",
   "execution_count": 3,
   "metadata": {},
   "outputs": [],
   "source": [
    "import openpyxl\n",
    "from openpyxl.styles import Font\n",
    "\n",
    "wb = openpyxl.load_workbook('balance.xlsx')\n",
    "\n",
    "ws = wb['Sheet1']\n",
    "\n",
    "font_1 = Font(bold=True)\n",
    "\n",
    "ws['A10'] = 'Soma'\n",
    "ws['A11'] = 'Média'\n",
    "\n",
    "ws['A10'].font = font_1\n",
    "ws['A11'].font = font_1\n",
    "\n",
    "ws['B10'] = '=SUM(B2:B9)'\n",
    "ws['B11'] = '=AVERAGE(B2:B9)'\n",
    "\n",
    "wb.save('balance.xlsx')"
   ]
  }
 ],
 "metadata": {
  "kernelspec": {
   "display_name": "Python 3",
   "language": "python",
   "name": "python3"
  },
  "language_info": {
   "codemirror_mode": {
    "name": "ipython",
    "version": 3
   },
   "file_extension": ".py",
   "mimetype": "text/x-python",
   "name": "python",
   "nbconvert_exporter": "python",
   "pygments_lexer": "ipython3",
   "version": "3.10.8"
  },
  "orig_nbformat": 4,
  "vscode": {
   "interpreter": {
    "hash": "b1be5a1e9e85905d3e4e97ef1b769f5caa870a8a58c9f9e0ae488b6f0a0e1baf"
   }
  }
 },
 "nbformat": 4,
 "nbformat_minor": 2
}
