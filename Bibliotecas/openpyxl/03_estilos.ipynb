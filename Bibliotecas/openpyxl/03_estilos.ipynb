{
 "cells": [
  {
   "attachments": {},
   "cell_type": "markdown",
   "metadata": {},
   "source": [
    "# Estilos "
   ]
  },
  {
   "attachments": {},
   "cell_type": "markdown",
   "metadata": {},
   "source": [
    "Podemos mudar o estilo de um ou mais celulas da maneira que quisermos, adcionando novas fontes, colocando em itálico, negrito, mudando a cor da letra, celula, ajustando a borda, etc.\n",
    "\n",
    "Para termos a habilidade de fazer isso, é preciso importar um pacote dentro da biblioteca openpyxl de estilos."
   ]
  },
  {
   "cell_type": "code",
   "execution_count": 2,
   "metadata": {},
   "outputs": [],
   "source": [
    "import openpyxl\n",
    "from openpyxl.styles import *"
   ]
  },
  {
   "attachments": {},
   "cell_type": "markdown",
   "metadata": {},
   "source": [
    "Podemos importar diversar classes dentro do pacote, mas começaremos com o Font, que como o própio nome diz, trabalha com a fonte."
   ]
  },
  {
   "attachments": {},
   "cell_type": "markdown",
   "metadata": {},
   "source": [
    "## Métodos da classe Font( )"
   ]
  },
  {
   "cell_type": "code",
   "execution_count": 30,
   "metadata": {},
   "outputs": [],
   "source": [
    "import openpyxl\n",
    "from openpyxl.styles import Font"
   ]
  },
  {
   "attachments": {},
   "cell_type": "markdown",
   "metadata": {},
   "source": [
    "A classe Fonte possui diversos métodos que podemos utililar, como pode ser visto abaixo. Os mais utilizados são: name, bold, italic, color, size. "
   ]
  },
  {
   "cell_type": "code",
   "execution_count": 6,
   "metadata": {},
   "outputs": [
    {
     "name": "stdout",
     "output_type": "stream",
     "text": [
      "['UNDERLINE_DOUBLE', 'UNDERLINE_DOUBLE_ACCOUNTING', 'UNDERLINE_SINGLE', 'UNDERLINE_SINGLE_ACCOUNTING', '__add__', '__attrs__', '__class__', '__copy__', '__delattr__', '__dict__', '__dir__', '__doc__', '__elements__', '__eq__', '__format__', '__ge__', '__getattribute__', '__gt__', '__hash__', '__init__', '__init_subclass__', '__iter__', '__le__', '__lt__', '__module__', '__namespaced__', '__ne__', '__nested__', '__new__', '__reduce__', '__reduce_ex__', '__repr__', '__setattr__', '__sizeof__', '__str__', '__subclasshook__', '__weakref__', 'b', 'bold', 'charset', 'color', 'condense', 'extend', 'family', 'from_tree', 'i', 'idx_base', 'italic', 'name', 'namespace', 'outline', 'scheme', 'shadow', 'size', 'strike', 'strikethrough', 'sz', 'tagname', 'to_tree', 'u', 'underline', 'vertAlign']\n"
     ]
    }
   ],
   "source": [
    "print(dir(Font()))"
   ]
  },
  {
   "attachments": {},
   "cell_type": "markdown",
   "metadata": {},
   "source": [
    "### Adcionando um estilo de fonte a uma celula"
   ]
  },
  {
   "cell_type": "code",
   "execution_count": 12,
   "metadata": {},
   "outputs": [],
   "source": [
    "import openpyxl\n",
    "from openpyxl.styles import Font\n",
    "\n",
    "wb = openpyxl.load_workbook('balance.xlsx')\n",
    "\n",
    "ws = wb['Sheet1']\n",
    "\n",
    "style_font_1 = Font(name='Bauhaus 93', bold=True, italic=True, color='F39C12', size=14)\n",
    "\n",
    "ws['A2'].font = style_font_1\n",
    "\n",
    "wb.save('balance.xlsx')"
   ]
  },
  {
   "attachments": {},
   "cell_type": "markdown",
   "metadata": {},
   "source": [
    "### Adcionando um estilo de fonte a várias celulas"
   ]
  },
  {
   "cell_type": "code",
   "execution_count": 28,
   "metadata": {},
   "outputs": [],
   "source": [
    "import openpyxl\n",
    "from openpyxl.styles import Font\n",
    "\n",
    "wb = openpyxl.load_workbook('balance.xlsx')\n",
    "\n",
    "ws = wb['Sheet1']\n",
    "\n",
    "style_font_2 = Font(name='Bauhaus 93', bold=True, color='1F618D', size=14, underline='single')\n",
    "\n",
    "for i in range(2,9):\n",
    "    ws.cell(row=i, column=2).font = style_font_2\n",
    "\n",
    "wb.save('balance.xlsx')"
   ]
  },
  {
   "attachments": {},
   "cell_type": "markdown",
   "metadata": {},
   "source": [
    "## Metodos da classe PatternFill( )"
   ]
  },
  {
   "attachments": {},
   "cell_type": "markdown",
   "metadata": {},
   "source": [
    "a classe PatternFill( ) muda o background da celula."
   ]
  },
  {
   "cell_type": "code",
   "execution_count": 32,
   "metadata": {},
   "outputs": [],
   "source": [
    "import openpyxl\n",
    "from openpyxl.styles import PatternFill"
   ]
  },
  {
   "cell_type": "code",
   "execution_count": 33,
   "metadata": {},
   "outputs": [
    {
     "name": "stdout",
     "output_type": "stream",
     "text": [
      "['__add__', '__attrs__', '__class__', '__copy__', '__delattr__', '__dict__', '__dir__', '__doc__', '__elements__', '__eq__', '__format__', '__ge__', '__getattribute__', '__gt__', '__hash__', '__init__', '__init_subclass__', '__iter__', '__le__', '__lt__', '__module__', '__namespaced__', '__ne__', '__nested__', '__new__', '__reduce__', '__reduce_ex__', '__repr__', '__setattr__', '__sizeof__', '__str__', '__subclasshook__', '__weakref__', '_from_tree', 'bgColor', 'end_color', 'fgColor', 'fill_type', 'from_tree', 'idx_base', 'namespace', 'patternType', 'start_color', 'tagname', 'to_tree']\n"
     ]
    }
   ],
   "source": [
    "print(dir(PatternFill()))"
   ]
  },
  {
   "attachments": {},
   "cell_type": "markdown",
   "metadata": {},
   "source": [
    "O método mais importante é o patternType, onde podemos escollher o tipo de padrão. São eles: solid, lightGray, lightGrid, darkGrid, darkUp, darkVertical, lightTrellis, lightVertical, gray125, lightHorizontal, mediumGray, darkHorizontal, gray0625, darkGray, lightUp, darkDown, lightDown, darkTrelli."
   ]
  },
  {
   "attachments": {},
   "cell_type": "markdown",
   "metadata": {},
   "source": [
    "Vejamos um exemplo de utilização:"
   ]
  },
  {
   "cell_type": "code",
   "execution_count": 44,
   "metadata": {},
   "outputs": [],
   "source": [
    "import openpyxl\n",
    "from openpyxl.styles import PatternFill\n",
    "\n",
    "wb = openpyxl.load_workbook('balance.xlsx')\n",
    "\n",
    "ws = wb['Sheet1']\n",
    "\n",
    "style_fill_1 = PatternFill(patternType='solid', fgColor='6C3483')\n",
    "style_fill_2 = PatternFill(patternType='darkHorizontal', fgColor='ABEBC6')\n",
    "style_fill_3 = PatternFill(patternType='lightUp', fgColor='17202A')\n",
    "\n",
    "ws['C1'].fill = style_fill_1\n",
    "ws['C2'].fill = style_fill_2\n",
    "ws['C3'].fill = style_fill_3\n",
    "\n",
    "wb.save('balance.xlsx')"
   ]
  },
  {
   "attachments": {},
   "cell_type": "markdown",
   "metadata": {},
   "source": [
    "## Métodos da classe Border( ) e Side( )"
   ]
  },
  {
   "attachments": {},
   "cell_type": "markdown",
   "metadata": {},
   "source": [
    "Para podermos mumdar a a borda de uma celula, é preciso utilizar duas classes, a Side, onde colocaremos o estilo da borda e o classe Border, onde muderamos a borda."
   ]
  },
  {
   "cell_type": "code",
   "execution_count": 46,
   "metadata": {},
   "outputs": [],
   "source": [
    "import openpyxl\n",
    "from openpyxl.styles import Border, Side"
   ]
  },
  {
   "cell_type": "code",
   "execution_count": 47,
   "metadata": {},
   "outputs": [
    {
     "name": "stdout",
     "output_type": "stream",
     "text": [
      "['__add__', '__attrs__', '__class__', '__copy__', '__delattr__', '__dict__', '__dir__', '__doc__', '__elements__', '__eq__', '__fields__', '__format__', '__ge__', '__getattribute__', '__gt__', '__hash__', '__init__', '__init_subclass__', '__iter__', '__le__', '__lt__', '__module__', '__namespaced__', '__ne__', '__nested__', '__new__', '__reduce__', '__reduce_ex__', '__repr__', '__setattr__', '__sizeof__', '__str__', '__subclasshook__', '__weakref__', 'bottom', 'diagonal', 'diagonalDown', 'diagonalUp', 'diagonal_direction', 'end', 'from_tree', 'horizontal', 'idx_base', 'left', 'namespace', 'outline', 'right', 'start', 'tagname', 'to_tree', 'top', 'vertical']\n"
     ]
    }
   ],
   "source": [
    "print(dir(Border()))"
   ]
  },
  {
   "attachments": {},
   "cell_type": "markdown",
   "metadata": {},
   "source": [
    "Os métodos mais importantes dessa classe são: bottom, left, right e top."
   ]
  },
  {
   "cell_type": "code",
   "execution_count": 48,
   "metadata": {},
   "outputs": [
    {
     "name": "stdout",
     "output_type": "stream",
     "text": [
      "['__add__', '__attrs__', '__class__', '__copy__', '__delattr__', '__dict__', '__dir__', '__doc__', '__elements__', '__eq__', '__fields__', '__format__', '__ge__', '__getattribute__', '__gt__', '__hash__', '__init__', '__init_subclass__', '__iter__', '__le__', '__lt__', '__module__', '__namespaced__', '__ne__', '__nested__', '__new__', '__reduce__', '__reduce_ex__', '__repr__', '__setattr__', '__sizeof__', '__str__', '__subclasshook__', '__weakref__', 'border_style', 'color', 'from_tree', 'idx_base', 'namespace', 'style', 'tagname', 'to_tree']\n"
     ]
    }
   ],
   "source": [
    "print(dir(Side()))"
   ]
  },
  {
   "attachments": {},
   "cell_type": "markdown",
   "metadata": {},
   "source": [
    "Os métodos mais importantes dessa classe são o border_style, onde podemos escolher entre essas valores: hair, dashed, medium, slantDashDot, thick, dotted, dashDotDo, dashDot, double, mediumDashDot, mediumDashed, thin, mediumDashDotDot e o método color."
   ]
  },
  {
   "attachments": {},
   "cell_type": "markdown",
   "metadata": {},
   "source": [
    "Vejamos um exemplo de aplicação:"
   ]
  },
  {
   "cell_type": "code",
   "execution_count": 53,
   "metadata": {},
   "outputs": [],
   "source": [
    "import openpyxl\n",
    "from openpyxl.styles import Font\n",
    "\n",
    "wb = openpyxl.load_workbook('balance.xlsx')\n",
    "\n",
    "ws = wb['Sheet1']\n",
    "\n",
    "style_side_1 = Side(border_style='medium', color='F57C00')\n",
    "border_1 = Border(top=style_side_1, bottom=style_side_1, left=style_side_1, right=style_side_1)\n",
    "border_2 = Border(left=style_side_1, right=style_side_1)\n",
    "\n",
    "\n",
    "ws['B7'].border = border_1\n",
    "ws['B5'].border = border_2\n",
    "\n",
    "\n",
    "wb.save('balance.xlsx')"
   ]
  }
 ],
 "metadata": {
  "kernelspec": {
   "display_name": "Python 3",
   "language": "python",
   "name": "python3"
  },
  "language_info": {
   "codemirror_mode": {
    "name": "ipython",
    "version": 3
   },
   "file_extension": ".py",
   "mimetype": "text/x-python",
   "name": "python",
   "nbconvert_exporter": "python",
   "pygments_lexer": "ipython3",
   "version": "3.10.8"
  },
  "orig_nbformat": 4,
  "vscode": {
   "interpreter": {
    "hash": "b1be5a1e9e85905d3e4e97ef1b769f5caa870a8a58c9f9e0ae488b6f0a0e1baf"
   }
  }
 },
 "nbformat": 4,
 "nbformat_minor": 2
}
