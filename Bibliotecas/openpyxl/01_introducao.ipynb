{
 "cells": [
  {
   "attachments": {},
   "cell_type": "markdown",
   "metadata": {},
   "source": [
    "#  Introdução ao openpyxl"
   ]
  },
  {
   "attachments": {},
   "cell_type": "markdown",
   "metadata": {},
   "source": [
    "openpyxl é uma biblioteca do python que permite trabalhar com planilhas do excel. Basicamente qualquer comando feito no excel pode ser executado dentro de um scipt python. \n",
    "\n",
    "Então vc pode se perguntar, pq não fazer diretamento no excel. A resposta é simples: automatização. Se vc precisar fazer uma tarefa padrão que se repete diversas vezes, com o excel vc precisa fazer os mesmos passos toda vez. Com o Python e o openpyxl é possivel fazer um script que executa toda essa tarefa para qualquer arquivo excel que precisar. Faz uma vez e serve para qualquer arquivo excel.\n",
    "\n",
    "Como em qualquer tutorial aqui, irei iniciar desde o básico e aumentando a dificuldade com o passar das aulas. Vamos começar!"
   ]
  },
  {
   "attachments": {},
   "cell_type": "markdown",
   "metadata": {},
   "source": [
    "### Importando a biblioteca\n"
   ]
  },
  {
   "attachments": {},
   "cell_type": "markdown",
   "metadata": {},
   "source": [
    "Antes de importar a biblioteca é preciso que vc tenha ela instalada no computador ou numa máquina virtual. \n",
    "\n",
    "Feito esse passo, podemos importar a biblioteca utilizando o comando imoport do python. Nada de novo aqui."
   ]
  },
  {
   "cell_type": "code",
   "execution_count": null,
   "metadata": {},
   "outputs": [],
   "source": [
    "import openpyxl"
   ]
  },
  {
   "attachments": {},
   "cell_type": "markdown",
   "metadata": {},
   "source": [
    "### Carregando um arquivo excel"
   ]
  },
  {
   "attachments": {},
   "cell_type": "markdown",
   "metadata": {},
   "source": [
    "É preferivel que vc tenha o arquivo excel dentro da mesma pasta que está o script .py, facilita a escrita do código e a organização futura. Caso não esteja, não tem problema, so tem que colocar o path do arquivo e não apenas o nome."
   ]
  },
  {
   "attachments": {},
   "cell_type": "markdown",
   "metadata": {},
   "source": [
    "##### Caso o arquivo esteja na mesma pasta"
   ]
  },
  {
   "cell_type": "code",
   "execution_count": 1,
   "metadata": {},
   "outputs": [],
   "source": [
    "import openpyxl\n",
    "\n",
    "wb = openpyxl.load_workbook('balance.xlsx')"
   ]
  },
  {
   "attachments": {},
   "cell_type": "markdown",
   "metadata": {},
   "source": [
    "##### Caso o arquivo não esteja na mesma pasta"
   ]
  },
  {
   "cell_type": "code",
   "execution_count": 14,
   "metadata": {},
   "outputs": [],
   "source": [
    "import openpyxl\n",
    "\n",
    "wb = openpyxl.load_workbook(\"C:\\\\Users\\\\gabri\\\\teste.xlsx\")"
   ]
  },
  {
   "attachments": {},
   "cell_type": "markdown",
   "metadata": {},
   "source": [
    "### Verificando o nome dos sheets presentes no arquivo .xlsx"
   ]
  },
  {
   "attachments": {},
   "cell_type": "markdown",
   "metadata": {},
   "source": [
    "Basta utilizar o método sheetnames do objeto criado, no caso: wb."
   ]
  },
  {
   "cell_type": "code",
   "execution_count": 15,
   "metadata": {},
   "outputs": [
    {
     "name": "stdout",
     "output_type": "stream",
     "text": [
      "['Sheet1', 'Score']\n"
     ]
    }
   ],
   "source": [
    "import openpyxl\n",
    "\n",
    "wb = openpyxl.load_workbook('balance.xlsx')\n",
    "\n",
    "print(wb.sheetnames)"
   ]
  },
  {
   "attachments": {},
   "cell_type": "markdown",
   "metadata": {},
   "source": [
    "### Criando um novo sheet"
   ]
  },
  {
   "attachments": {},
   "cell_type": "markdown",
   "metadata": {},
   "source": [
    "Basta utilizar o método create_Sheet(n,y). Onde n é o nome do novo sheet e y é um parâmetro opcional que indica em qual posição ele será criado. Como padrão, ele sempre cria e posiciona após o último sheet, mas podemos colocar em qualquer lugar que desejar, basta indicar o número, iniciando no 0.\n",
    "\n",
    "obs: Toda atualização que for feita no arquivo excel é preciso ser salva, para isso, utilizamos o método sava(n), onde n é o nome do arquivo na qual as alterações serão feitas. \n",
    "\n",
    "obs: Para que seja visivel as alterações no arquivo, é preciso fecha-lo e abri-lo novamente."
   ]
  },
  {
   "cell_type": "code",
   "execution_count": 18,
   "metadata": {},
   "outputs": [],
   "source": [
    "import openpyxl\n",
    "\n",
    "wb = openpyxl.load_workbook('balance.xlsx')\n",
    "\n",
    "wb.create_sheet(\"New_sheet\", 0)\n",
    "wb.save('balance.xlsx')"
   ]
  },
  {
   "attachments": {},
   "cell_type": "markdown",
   "metadata": {},
   "source": [
    "### Trabalhando com o sheet específico"
   ]
  },
  {
   "attachments": {},
   "cell_type": "markdown",
   "metadata": {},
   "source": [
    "O seu arquivo excel pode pussir diversos sheets. É preciso então dizer para o Python qual é o sheet que estamos trabalhando. É algo bem simples, vejamos no código abaixo."
   ]
  },
  {
   "cell_type": "code",
   "execution_count": null,
   "metadata": {},
   "outputs": [],
   "source": [
    "import openpyxl\n",
    "\n",
    "wb = openpyxl.load_workbook('balance.xlsx')\n",
    "\n",
    "ws = wb['Sheet1']\n",
    "ws1 = wb['Score']"
   ]
  },
  {
   "attachments": {},
   "cell_type": "markdown",
   "metadata": {},
   "source": [
    "Todos os comando utilizados se refereindo ao ws, serão relacionados ao sheet Sheet1. Mesma coisa para no caso do ws1, mas será referente ao sheet Score."
   ]
  },
  {
   "attachments": {},
   "cell_type": "markdown",
   "metadata": {},
   "source": [
    "### Criando um arquivo novo"
   ]
  },
  {
   "attachments": {},
   "cell_type": "markdown",
   "metadata": {},
   "source": [
    "Caso não tenha um arquivo para trabalhar, podemos criar um do zero e fazer qualquer coisa com ele. Vamos ver como funciona."
   ]
  },
  {
   "cell_type": "code",
   "execution_count": 1,
   "metadata": {},
   "outputs": [],
   "source": [
    "import openpyxl\n",
    "\n",
    "wb = openpyxl.Workbook() # Criamos um novo arquivo .xlsx\n",
    "ws = wb.active # Define qual sheet está trabalhando. Como é um arquivo novo, sé tera um sheet e ele que será ativado.\n",
    "ws.title = \"Data\" # Define um nome para o sheet.\n",
    "\n",
    "wb.save('teste.xlsx')"
   ]
  }
 ],
 "metadata": {
  "kernelspec": {
   "display_name": "Python 3",
   "language": "python",
   "name": "python3"
  },
  "language_info": {
   "codemirror_mode": {
    "name": "ipython",
    "version": 3
   },
   "file_extension": ".py",
   "mimetype": "text/x-python",
   "name": "python",
   "nbconvert_exporter": "python",
   "pygments_lexer": "ipython3",
   "version": "3.10.8"
  },
  "orig_nbformat": 4,
  "vscode": {
   "interpreter": {
    "hash": "b1be5a1e9e85905d3e4e97ef1b769f5caa870a8a58c9f9e0ae488b6f0a0e1baf"
   }
  }
 },
 "nbformat": 4,
 "nbformat_minor": 2
}
