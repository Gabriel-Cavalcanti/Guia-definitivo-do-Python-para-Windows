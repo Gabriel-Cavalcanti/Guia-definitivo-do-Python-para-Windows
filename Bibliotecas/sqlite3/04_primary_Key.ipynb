{
 "cells": [
  {
   "attachments": {},
   "cell_type": "markdown",
   "metadata": {},
   "source": [
    "# Primary key"
   ]
  },
  {
   "attachments": {},
   "cell_type": "markdown",
   "metadata": {},
   "source": [
    "Na tabela passada, criei uma coluna chamada id, que era a primary key. Mas não necessita. O SQLite cria uma coluna primary key automaticamente, vejamos um exemplo com outra tabela. \n",
    "\n",
    "Para que o id aparece na sua seleção, é preciso colocar a palavra rowid no comando SELECT."
   ]
  },
  {
   "cell_type": "code",
   "execution_count": 13,
   "metadata": {},
   "outputs": [
    {
     "name": "stdout",
     "output_type": "stream",
     "text": [
      "(1, 1, 1.4)\n",
      "(2, 1, 1.4)\n",
      "(3, 4, 5.4)\n",
      "(4, 76, 6.3)\n",
      "(5, 42, 5.6)\n"
     ]
    }
   ],
   "source": [
    "import sqlite3\n",
    "\n",
    "conn = sqlite3.connect('databaseteste.db')\n",
    "\n",
    "cursor = conn.cursor()\n",
    "\n",
    "cursor.execute(\"\"\"\n",
    "CREATE TABLE exemplo2(\n",
    "    COLUNA_01 INT,\n",
    "    COLUNA_02 REAL\n",
    ");\n",
    "\"\"\")\n",
    "\n",
    "\n",
    "cursor.execute(\"INSERT INTO exemplo2 (COLUNA_01, COLUNA_02) VALUES (1, 1.4)\")\n",
    "cursor.execute(\"INSERT INTO exemplo2 (COLUNA_01, COLUNA_02) VALUES (4, 5.4)\")\n",
    "cursor.execute(\"INSERT INTO exemplo2 (COLUNA_01, COLUNA_02) VALUES (76, 6.3)\")\n",
    "cursor.execute(\"INSERT INTO exemplo2 (COLUNA_01, COLUNA_02) VALUES (42, 5.6)\")\n",
    "\n",
    "\n",
    "cursor.execute(\"SELECT rowid, * FROM exemplo2\")\n",
    "itens = cursor.fetchall()\n",
    "\n",
    "for iten in itens:\n",
    "    print(iten)\n",
    "\n",
    "\n",
    "conn.commit()\n",
    "\n",
    "conn.close()"
   ]
  }
 ],
 "metadata": {
  "kernelspec": {
   "display_name": "Python 3",
   "language": "python",
   "name": "python3"
  },
  "language_info": {
   "codemirror_mode": {
    "name": "ipython",
    "version": 3
   },
   "file_extension": ".py",
   "mimetype": "text/x-python",
   "name": "python",
   "nbconvert_exporter": "python",
   "pygments_lexer": "ipython3",
   "version": "3.10.8"
  },
  "orig_nbformat": 4,
  "vscode": {
   "interpreter": {
    "hash": "b1be5a1e9e85905d3e4e97ef1b769f5caa870a8a58c9f9e0ae488b6f0a0e1baf"
   }
  }
 },
 "nbformat": 4,
 "nbformat_minor": 2
}
