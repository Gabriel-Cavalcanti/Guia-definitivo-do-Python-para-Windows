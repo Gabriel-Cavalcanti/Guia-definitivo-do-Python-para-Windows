{
 "cells": [
  {
   "attachments": {},
   "cell_type": "markdown",
   "metadata": {},
   "source": [
    "# Inserindo dados em uma tabela"
   ]
  },
  {
   "attachments": {},
   "cell_type": "markdown",
   "metadata": {},
   "source": [
    "Após criar uma tabela, é preciso popular ela com dados. Para fazer isso, precismos utilizar um comando para inserir essas dados\n",
    "dentro da tabela. \n",
    "\n",
    "É um outro comando SQL que irá ficar, sempre, dentro do comando execute do cursor criado. "
   ]
  },
  {
   "attachments": {},
   "cell_type": "markdown",
   "metadata": {},
   "source": [
    "### Inserindo apenas um dado"
   ]
  },
  {
   "attachments": {},
   "cell_type": "markdown",
   "metadata": {},
   "source": [
    "Para inserir apenas um dado, utilizamos o comando INSERT INTO padrão."
   ]
  },
  {
   "cell_type": "code",
   "execution_count": 1,
   "metadata": {},
   "outputs": [],
   "source": [
    "import sqlite3\n",
    "\n",
    "conn = sqlite3.connect('databaseteste.db')\n",
    "\n",
    "cursor = conn.cursor()\n",
    "\n",
    "cursor.execute(\"\"\" \n",
    "INSERT INTO exemplo(nome, data_nascimento, ex_real, ativo)\n",
    "VALUES ('Gabriel', '1998-05-14', 1.52535, True);\n",
    "\"\"\")\n",
    "\n",
    "conn.commit()\n",
    "\n",
    "conn.close()"
   ]
  },
  {
   "attachments": {},
   "cell_type": "markdown",
   "metadata": {},
   "source": [
    "### Inserindo muitos dados"
   ]
  },
  {
   "attachments": {},
   "cell_type": "markdown",
   "metadata": {},
   "source": [
    "Para inserir muitos dados de uma vez, podemos utilizar o comando INSERT INTO várias vezes, ou utilizar uma lista para agilizar\n",
    "o processo. \n",
    "\n",
    "Funciona assim: \n",
    "\n",
    "- Cria uma lista na qual os dados são tuplas contendo as informações na ordem correta da criação da tabela, quantas tuplas(dados) quiser; \n",
    "- Utilize o comando nome_cursor.executemany(\"INSERT INTO nome_cursor VALUES (?,?,?,?)\", nome_lista). Onde as ? representam a quantidade de colunas na tabela, ou seja, se sua tabela tiver 4 colunas, é preciso colocar 4 ? dentro dos parênteses; \n",
    "\n",
    "- Em seguida o nome da lista contendo as tuplas com os dados."
   ]
  },
  {
   "cell_type": "code",
   "execution_count": 1,
   "metadata": {},
   "outputs": [],
   "source": [
    "import sqlite3\n",
    "\n",
    "conn = sqlite3.connect('databaseteste.db')\n",
    "\n",
    "cursor = conn.cursor()\n",
    "\n",
    "dados_exemplo = [(1, 'Gabriel', '1998-05-14', 1.5, True),\n",
    "                 (2, 'Felipe', '1985-02-25', 5.3, False),\n",
    "                 (3, 'Bianca', '2004-04-04', 2.1, True),\n",
    "                 (4, 'Sofia', '1997-03-07', 7.2, True),\n",
    "                 (5, 'Luiz', '1990-08-18', 3.2, True),\n",
    "                 ]\n",
    "\n",
    "\n",
    "cursor.executemany(\"INSERT INTO exemplo VALUES (?,?,?,?,?)\", dados_exemplo)\n",
    "\n",
    "conn.commit()\n",
    "\n",
    "conn.close()"
   ]
  }
 ],
 "metadata": {
  "kernelspec": {
   "display_name": "Python 3",
   "language": "python",
   "name": "python3"
  },
  "language_info": {
   "codemirror_mode": {
    "name": "ipython",
    "version": 3
   },
   "file_extension": ".py",
   "mimetype": "text/x-python",
   "name": "python",
   "nbconvert_exporter": "python",
   "pygments_lexer": "ipython3",
   "version": "3.10.8"
  },
  "orig_nbformat": 4,
  "vscode": {
   "interpreter": {
    "hash": "b1be5a1e9e85905d3e4e97ef1b769f5caa870a8a58c9f9e0ae488b6f0a0e1baf"
   }
  }
 },
 "nbformat": 4,
 "nbformat_minor": 2
}
