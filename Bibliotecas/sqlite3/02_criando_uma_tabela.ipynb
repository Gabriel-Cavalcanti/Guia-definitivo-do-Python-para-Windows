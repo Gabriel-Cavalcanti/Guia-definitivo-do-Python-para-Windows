{
 "cells": [
  {
   "attachments": {},
   "cell_type": "markdown",
   "metadata": {},
   "source": [
    "# Criando uma tabela "
   ]
  },
  {
   "attachments": {},
   "cell_type": "markdown",
   "metadata": {},
   "source": [
    "Assim que a conecção com o banco e o cursor forem criados, o próximo passo é criar uma tabela que será alocada dentro do banco de dados criado. Vejamos como isso pode ser feito."
   ]
  },
  {
   "attachments": {},
   "cell_type": "markdown",
   "metadata": {},
   "source": [
    "### Criando um comando SQL com o comando execute"
   ]
  },
  {
   "attachments": {},
   "cell_type": "markdown",
   "metadata": {},
   "source": [
    "Qualquer comando SQL que quisermos escrever, é preciso coloca-lo dentro do cursor, utilizando o método execute( ). \n",
    "\n",
    "Então usaremos o comando SQL para criação de uma tabela. \n",
    "\n",
    "Obs: Todo comando SQL dentro do execute fica dentro de \" \" ou \"\"\" \"\"\". É melhor utilizar da segunda forma pq facilita a leitura do código, já que pode escrever o código em várias linhas.\n",
    "\n",
    "Obs: Depois de criar o comando execute, é preciso commitar ele, caso contrário, não irá funcionar. Para utilizar o comando, bastá usar o método commit( )."
   ]
  },
  {
   "cell_type": "code",
   "execution_count": 1,
   "metadata": {},
   "outputs": [],
   "source": [
    "import sqlite3\n",
    "\n",
    "conn = sqlite3.connect('databaseteste.db')\n",
    "\n",
    "cursor = conn.cursor()\n",
    "\n",
    "cursor.execute(\"\"\"\n",
    "CREATE TABLE exemplo(\n",
    "    id INTERGER PRIMARY KEY,\n",
    "    nome TEXT,\n",
    "    data_nascimento DATA,\n",
    "    ex_real REAL,\n",
    "    ativo BLOB\n",
    ");\n",
    "\"\"\")\n",
    "\n",
    "conn.commit()\n",
    "\n",
    "conn.close()"
   ]
  },
  {
   "attachments": {},
   "cell_type": "markdown",
   "metadata": {},
   "source": [
    "Obs: Como o banco, a tebela e os dados ja foram criados, não é preciso executar eles a todo momento. Então a partir de agora só irei utilizar os comando referentes a aula. "
   ]
  }
 ],
 "metadata": {
  "kernelspec": {
   "display_name": "Python 3",
   "language": "python",
   "name": "python3"
  },
  "language_info": {
   "codemirror_mode": {
    "name": "ipython",
    "version": 3
   },
   "file_extension": ".py",
   "mimetype": "text/x-python",
   "name": "python",
   "nbconvert_exporter": "python",
   "pygments_lexer": "ipython3",
   "version": "3.10.8"
  },
  "orig_nbformat": 4,
  "vscode": {
   "interpreter": {
    "hash": "b1be5a1e9e85905d3e4e97ef1b769f5caa870a8a58c9f9e0ae488b6f0a0e1baf"
   }
  }
 },
 "nbformat": 4,
 "nbformat_minor": 2
}
