{
 "cells": [
  {
   "attachments": {},
   "cell_type": "markdown",
   "metadata": {},
   "source": [
    "# Utilizando funções"
   ]
  },
  {
   "attachments": {},
   "cell_type": "markdown",
   "metadata": {},
   "source": [
    "Podemos utilizar o poder das criação de funções dentro da biblioteca SQLite. Assim como utiliza-la detro de um programa que utiliza o paradigma da orientação a objetos. \n",
    "\n",
    "Irei mostar aqui um exemplo utilizando funções, mas é quase analogo a POO, ja que é só colocar dentro de uma classe e chamar as funções de métodos (não é tão simples assim, mas da para entender)"
   ]
  },
  {
   "attachments": {},
   "cell_type": "markdown",
   "metadata": {},
   "source": [
    "Criado o banco de dados e populado ele com tabelas e dados, podemos fazer algumas coisa, por exemplo:"
   ]
  },
  {
   "cell_type": "code",
   "execution_count": 1,
   "metadata": {},
   "outputs": [],
   "source": [
    "import sqlite3\n",
    "\n",
    "def show_all():\n",
    "\n",
    "    \n",
    "    conn = sqlite3.connect('databaseteste.db')\n",
    "\n",
    "    cursor = conn.cursor()\n",
    "\n",
    "    cursor.execute(\"SELECT * FROM exemplo\")\n",
    "    itens = cursor.fetchall()\n",
    "\n",
    "    for iten in itens:\n",
    "        print(iten)\n",
    "\n",
    "    conn.commit()\n",
    "\n",
    "    conn.close()"
   ]
  },
  {
   "cell_type": "code",
   "execution_count": 2,
   "metadata": {},
   "outputs": [
    {
     "name": "stdout",
     "output_type": "stream",
     "text": [
      "(1, 'Gabriel', '1998-05-14', 1.5, 1)\n",
      "(2, 'Felipe', '1985-02-25', 5.3, 0)\n",
      "(4, 'Sofia', '1997-03-07', 7.2, 1)\n",
      "(5, 'Luiz', '1990-08-18', 3.2, 1)\n"
     ]
    }
   ],
   "source": [
    "show_all()"
   ]
  },
  {
   "cell_type": "code",
   "execution_count": 7,
   "metadata": {},
   "outputs": [],
   "source": [
    "def add_one(id,nome, data_nascimento, ex_real, ativo):\n",
    "\n",
    "    conn = sqlite3.connect('databaseteste.db')\n",
    "\n",
    "    cursor = conn.cursor()\n",
    "\n",
    "    cursor.execute(\"\"\" \n",
    "    INSERT INTO exemplo\n",
    "    VALUES (?, ?, ?, ?, ?);\n",
    "    \"\"\", (id, nome, data_nascimento, ex_real, ativo))\n",
    "\n",
    "    conn.commit()\n",
    "\n",
    "    conn.close()"
   ]
  },
  {
   "cell_type": "code",
   "execution_count": 9,
   "metadata": {},
   "outputs": [
    {
     "name": "stdout",
     "output_type": "stream",
     "text": [
      "(1, 'Gabriel', '1998-05-14', 1.5, 1)\n",
      "(2, 'Felipe', '1985-02-25', 5.3, 0)\n",
      "(4, 'Sofia', '1997-03-07', 7.2, 1)\n",
      "(5, 'Luiz', '1990-08-18', 3.2, 1)\n",
      "(7, 'Heitor', '1997-07-23', 2.3, 1)\n"
     ]
    }
   ],
   "source": [
    "add_one(7, 'Heitor', '1997-07-23', 2.3, True)\n",
    "show_all()"
   ]
  },
  {
   "attachments": {},
   "cell_type": "markdown",
   "metadata": {},
   "source": [
    "Basicamente todos os comandos passados podem ser colocados dentro de funções. Outra coisa que da para fazer é criar um arquivo .py só com as funções e importar ele em um novo arquivo, como um biblioteca. É bem legal fazer isso, ainda mais se utilizar o paradigma da POO."
   ]
  }
 ],
 "metadata": {
  "kernelspec": {
   "display_name": "Python 3",
   "language": "python",
   "name": "python3"
  },
  "language_info": {
   "codemirror_mode": {
    "name": "ipython",
    "version": 3
   },
   "file_extension": ".py",
   "mimetype": "text/x-python",
   "name": "python",
   "nbconvert_exporter": "python",
   "pygments_lexer": "ipython3",
   "version": "3.10.8"
  },
  "orig_nbformat": 4,
  "vscode": {
   "interpreter": {
    "hash": "b1be5a1e9e85905d3e4e97ef1b769f5caa870a8a58c9f9e0ae488b6f0a0e1baf"
   }
  }
 },
 "nbformat": 4,
 "nbformat_minor": 2
}
