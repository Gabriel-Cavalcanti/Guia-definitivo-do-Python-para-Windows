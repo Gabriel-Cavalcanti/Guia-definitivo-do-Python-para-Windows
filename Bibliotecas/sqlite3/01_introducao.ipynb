{
 "cells": [
  {
   "attachments": {},
   "cell_type": "markdown",
   "metadata": {},
   "source": [
    "# introdução ao SQLite3"
   ]
  },
  {
   "attachments": {},
   "cell_type": "markdown",
   "metadata": {},
   "source": [
    "É uma biblioteca padrão do python que permite utilizar codigos SQL dentro de um arquivo .py. \n",
    "\n",
    "Muito boa para trabalhar com pequenas quantidade de dados e criar um banco de dados local.\n",
    "\n",
    "Obs: É preciso saber SQL para poder trabalar com essa biblioteca, obvio, mas precisa ser dito. Não irei ensinar como o SQL funciona aqui, então aprenda primiro ele para depois aprender como usar essa biblioteca."
   ]
  },
  {
   "attachments": {},
   "cell_type": "markdown",
   "metadata": {},
   "source": [
    "### Importando a biblioteca"
   ]
  },
  {
   "attachments": {},
   "cell_type": "markdown",
   "metadata": {},
   "source": [
    "Como é uma biblioteca padrão, não precisa de instalação, basta utilizar o comando abaixo para sua importação"
   ]
  },
  {
   "cell_type": "code",
   "execution_count": null,
   "metadata": {},
   "outputs": [],
   "source": [
    "import sqlite3"
   ]
  },
  {
   "attachments": {},
   "cell_type": "markdown",
   "metadata": {},
   "source": [
    "### Fazendo uma conecção"
   ]
  },
  {
   "attachments": {},
   "cell_type": "markdown",
   "metadata": {},
   "source": [
    "A primeira coisa que precisamos fazer é criar uma conecção com um banco de dados. Caso não tenha nenhum banco de dados criado ou existente, ele cria um automaticamente para vc assim que o comando é executato. O nome do banco de dados é definido por vc e tem que ter a terminação .db, como pode ser visto abaixo."
   ]
  },
  {
   "cell_type": "code",
   "execution_count": 2,
   "metadata": {},
   "outputs": [],
   "source": [
    "import sqlite3\n",
    "\n",
    "conn = sqlite3.connect('databaseteste.db')\n"
   ]
  },
  {
   "attachments": {},
   "cell_type": "markdown",
   "metadata": {},
   "source": [
    "### Criando um cursor"
   ]
  },
  {
   "attachments": {},
   "cell_type": "markdown",
   "metadata": {},
   "source": [
    "Assim que é feito a conecção com o banco de dados, é preciso criar algo para que os comandos SQL funcionem dentro do scrip Python. Esse comando é o cursor. Com ele é possível fazer basicamente tudo que quisermos em relação ao banco de dados. "
   ]
  },
  {
   "cell_type": "code",
   "execution_count": 3,
   "metadata": {},
   "outputs": [],
   "source": [
    "import sqlite3\n",
    "\n",
    "conn = sqlite3.connect('databaseteste.db')\n",
    "\n",
    "cursor = conn.cursor()\n"
   ]
  },
  {
   "attachments": {},
   "cell_type": "markdown",
   "metadata": {},
   "source": [
    "### Fechando uma conecção"
   ]
  },
  {
   "attachments": {},
   "cell_type": "markdown",
   "metadata": {},
   "source": [
    "Após fazer tudo que precisar, precisamo fechar a coneção incial. Isso será o último comando em relação a biblioteca SQLite3. Vejamos abaixo.\n"
   ]
  },
  {
   "cell_type": "code",
   "execution_count": 4,
   "metadata": {},
   "outputs": [],
   "source": [
    "import sqlite3\n",
    "\n",
    "conn = sqlite3.connect('databaseteste.db')\n",
    "\n",
    "cursor = conn.cursor()\n",
    "\n",
    "# Todo o resto do código\n",
    "\n",
    "conn.close()\n"
   ]
  },
  {
   "attachments": {},
   "cell_type": "markdown",
   "metadata": {},
   "source": [
    "Nada irá, aparentemente, acontecer, mas não podemos fazer mais nada em relação ao banco cuja a coneção estava ativada, até que uma nova coneção seja feita."
   ]
  }
 ],
 "metadata": {
  "kernelspec": {
   "display_name": "Python 3",
   "language": "python",
   "name": "python3"
  },
  "language_info": {
   "codemirror_mode": {
    "name": "ipython",
    "version": 3
   },
   "file_extension": ".py",
   "mimetype": "text/x-python",
   "name": "python",
   "nbconvert_exporter": "python",
   "pygments_lexer": "ipython3",
   "version": "3.10.8"
  },
  "orig_nbformat": 4,
  "vscode": {
   "interpreter": {
    "hash": "b1be5a1e9e85905d3e4e97ef1b769f5caa870a8a58c9f9e0ae488b6f0a0e1baf"
   }
  }
 },
 "nbformat": 4,
 "nbformat_minor": 2
}
