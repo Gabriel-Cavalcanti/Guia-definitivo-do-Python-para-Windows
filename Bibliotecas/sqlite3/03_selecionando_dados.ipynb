{
 "cells": [
  {
   "attachments": {},
   "cell_type": "markdown",
   "metadata": {},
   "source": [
    "# Selecionando dados"
   ]
  },
  {
   "attachments": {},
   "cell_type": "markdown",
   "metadata": {},
   "source": [
    "Assim que alguma tabela for criada e alguns dados forem inseridos, o próximo passo é selecionar esses dados para que possamos ver como está a nossa tabela.\n",
    "\n",
    "Não sei se percebeu, mas a até agora todos os 'runs' que demos não mostraram nada no terminal. Os comando funcionaram, mas não conseguimos ver eles. 'corrigimos' isso utilizando o comando SQL SELECT + mais o comando fetch_( ). Vejamos como isso funciona "
   ]
  },
  {
   "attachments": {},
   "cell_type": "markdown",
   "metadata": {},
   "source": [
    "#### Tipos de fetch_( )"
   ]
  },
  {
   "attachments": {},
   "cell_type": "markdown",
   "metadata": {},
   "source": [
    "O fetch nada mais é que o comando que permite que os dados sejam capturados do comando SELECT e possa ser utilizado no scrip Python. Existem 3 tipos de fetch, fetchone( ), fetchmany(n) e fatchall( ).\n",
    "\n",
    "- O primeiro apenas recupera o primeiro valor da seleção feita.\n",
    "\n",
    "- O segundo recupera quants linhas quisermos, n sendo a quantidade de linhas.\n",
    "\n",
    "- O último recupera todos os dados feitos pelo comando SELECT.\n",
    "\n",
    "Na maioria dos casos, utilizaremos o fatchall( )."
   ]
  },
  {
   "attachments": {},
   "cell_type": "markdown",
   "metadata": {},
   "source": [
    "### Selecionando os dados"
   ]
  },
  {
   "attachments": {},
   "cell_type": "markdown",
   "metadata": {},
   "source": [
    "O comando SELECT é muito poderoso, podemos fazer diversar operações com ele, mas poe enquando irei apenas selecionar todos os dados( por meio do *) e mostra-los."
   ]
  },
  {
   "cell_type": "code",
   "execution_count": 10,
   "metadata": {},
   "outputs": [
    {
     "name": "stdout",
     "output_type": "stream",
     "text": [
      "[(1, 'Gabriel', '1998-05-14', 1.5, 1), (2, 'Felipe', '1985-02-25', 5.3, 0), (3, 'Bianca', '2004-04-04', 2.1, 1), (4, 'Sofia', '1997-03-07', 7.2, 1), (5, 'Luiz', '1990-08-18', 3.2, 1)]\n"
     ]
    }
   ],
   "source": [
    "import sqlite3\n",
    "\n",
    "conn = sqlite3.connect('databaseteste.db')\n",
    "\n",
    "cursor = conn.cursor()\n",
    "\n",
    "cursor.execute(\"SELECT * FROM exemplo\")\n",
    "print(cursor.fetchall())\n",
    "\n",
    "conn.commit()\n",
    "\n",
    "conn.close()"
   ]
  },
  {
   "attachments": {},
   "cell_type": "markdown",
   "metadata": {},
   "source": [
    "Como podemos ver, a apresentação dos dados não é das melhores, eles estão lá, mas não fica muito bom de visualizar. Podemos melhorar a visualação utilizando um laço for."
   ]
  },
  {
   "cell_type": "code",
   "execution_count": 15,
   "metadata": {},
   "outputs": [
    {
     "name": "stdout",
     "output_type": "stream",
     "text": [
      "(1, 'Gabriel', '1998-05-14', 1.5, 1)\n",
      "(2, 'Felipe', '1985-02-25', 5.3, 0)\n",
      "(3, 'Bianca', '2004-04-04', 2.1, 1)\n",
      "(4, 'Sofia', '1997-03-07', 7.2, 1)\n",
      "(5, 'Luiz', '1990-08-18', 3.2, 1)\n",
      "(1, 'Gabriel', '1998-05-14', 1.5, 1)\n",
      "(2, 'Felipe', '1985-02-25', 5.3, 0)\n",
      "(3, 'Bianca', '2004-04-04', 2.1, 1)\n",
      "(4, 'Sofia', '1997-03-07', 7.2, 1)\n",
      "(5, 'Luiz', '1990-08-18', 3.2, 1)\n"
     ]
    }
   ],
   "source": [
    "import sqlite3\n",
    "\n",
    "conn = sqlite3.connect('databaseteste.db')\n",
    "\n",
    "cursor = conn.cursor()\n",
    "\n",
    "for row in cursor.execute(\"SELECT * FROM exemplo\"):\n",
    "    print(row)\n",
    "\n",
    "# Ou \n",
    "\n",
    "cursor.execute(\"SELECT * FROM exemplo\")\n",
    "itens = cursor.fetchall()\n",
    "\n",
    "for iten in itens:\n",
    "    print(iten)\n",
    "\n",
    "conn.commit()\n",
    "\n",
    "conn.close()"
   ]
  },
  {
   "attachments": {},
   "cell_type": "markdown",
   "metadata": {},
   "source": [
    "Ou se formos criativos, podemos fazer muito melhor, como no código abaixo"
   ]
  },
  {
   "cell_type": "code",
   "execution_count": 1,
   "metadata": {},
   "outputs": [
    {
     "name": "stdout",
     "output_type": "stream",
     "text": [
      "ID\tNAME\tDATA_NASCIMENTO\tEX_REAL\tATIVO\n",
      "1\tGabriel\t1998-05-14\t1.5\t1\n",
      "2\tFelipe\t1985-02-25\t5.3\t0\n",
      "3\tBianca\t2004-04-04\t2.1\t1\n",
      "4\tSofia\t1997-03-07\t7.2\t1\n",
      "5\tLuiz\t1990-08-18\t3.2\t1\n"
     ]
    }
   ],
   "source": [
    "import sqlite3\n",
    "\n",
    "conn = sqlite3.connect('databaseteste.db')\n",
    "\n",
    "cursor = conn.cursor()\n",
    "\n",
    "cursor.execute(\"SELECT * FROM exemplo\")\n",
    "itens = cursor.fetchall()\n",
    "\n",
    "print(\"ID\" + \"\\t\"  + \"NAME\" + \"\\t\" +  \"DATA_NASCIMENTO\" + \"\\t\" + \"EX_REAL\" + \"\\t\" + \"ATIVO\")\n",
    "\n",
    "for iten in itens:\n",
    "    print(f\"{iten[0]}\\t{iten[1]}\\t{iten[2]}\\t{iten[3]}\\t{iten[4]}\")\n",
    "\n",
    "conn.commit()\n",
    "\n",
    "conn.close()"
   ]
  }
 ],
 "metadata": {
  "kernelspec": {
   "display_name": "Python 3",
   "language": "python",
   "name": "python3"
  },
  "language_info": {
   "codemirror_mode": {
    "name": "ipython",
    "version": 3
   },
   "file_extension": ".py",
   "mimetype": "text/x-python",
   "name": "python",
   "nbconvert_exporter": "python",
   "pygments_lexer": "ipython3",
   "version": "3.10.8"
  },
  "orig_nbformat": 4,
  "vscode": {
   "interpreter": {
    "hash": "b1be5a1e9e85905d3e4e97ef1b769f5caa870a8a58c9f9e0ae488b6f0a0e1baf"
   }
  }
 },
 "nbformat": 4,
 "nbformat_minor": 2
}
